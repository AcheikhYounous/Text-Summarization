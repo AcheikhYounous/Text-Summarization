{
 "cells": [
  {
   "cell_type": "code",
   "execution_count": null,
   "id": "9b89f7e3-07f7-4f97-9e74-8c733cd0eb77",
   "metadata": {},
   "outputs": [],
   "source": [
    "import torch\n",
    "print(torch.cuda.is_available())\n",
    "print(torch.__version__)\n",
    "import torch\n",
    "print(torch.cuda.is_available())  \n",
    "print(torch.cuda.device_count())  \n",
    "print(torch.cuda.get_device_name(0)) \n",
    "print(torch.cuda.current_device())  "
   ]
  },
  {
   "cell_type": "code",
   "execution_count": null,
   "id": "504f75f4-44ac-4c6e-a899-11fcd82eec92",
   "metadata": {},
   "outputs": [],
   "source": [
    "rm -rf ~/.cache/huggingface"
   ]
  },
  {
   "cell_type": "code",
   "execution_count": null,
   "id": "a2152bd0-de9a-4275-9f77-d24114b68e41",
   "metadata": {},
   "outputs": [],
   "source": [
    "import requests\n",
    "from bs4 import BeautifulSoup"
   ]
  },
  {
   "cell_type": "code",
   "execution_count": null,
   "id": "c450df44-1e85-4a34-86b5-04c930ab3081",
   "metadata": {},
   "outputs": [],
   "source": [
    "url = \"https://medium.com/analytics-vidhya/openai-gpt-3-language-models-are-few-shot-learners-82531b3d3122\""
   ]
  },
  {
   "cell_type": "code",
   "execution_count": null,
   "id": "7659279e-4eea-4a06-87f0-3bb37346d6f1",
   "metadata": {},
   "outputs": [],
   "source": [
    "response = requests.get(url)\n",
    "soup = BeautifulSoup(response.text, \"html.parser\")"
   ]
  },
  {
   "cell_type": "code",
   "execution_count": null,
   "id": "58d7b2d1-fe3a-474c-b6b5-9bf34f08fefd",
   "metadata": {},
   "outputs": [],
   "source": [
    "paragraphs = soup.find_all(\"p\")\n",
    "article_text = \" \".join([p.get_text() for p in paragraphs])"
   ]
  },
  {
   "cell_type": "code",
   "execution_count": null,
   "id": "bd1eca6b-10e7-4fb3-84d0-0fbb770f5d67",
   "metadata": {},
   "outputs": [],
   "source": [
    "print(article_text[:])"
   ]
  },
  {
   "cell_type": "code",
   "execution_count": null,
   "id": "11bd4674-c35a-4685-a435-860049ed4da6",
   "metadata": {},
   "outputs": [],
   "source": [
    "print(len(article_text))"
   ]
  },
  {
   "cell_type": "code",
   "execution_count": null,
   "id": "e6d2cfed-6e3e-4264-8c7a-cbd32b5d30f1",
   "metadata": {},
   "outputs": [],
   "source": [
    "print(len(article_text), type(article_text))"
   ]
  },
  {
   "cell_type": "markdown",
   "id": "3b653127-10b3-4ce6-a27f-667e6866354e",
   "metadata": {},
   "source": [
    "# BART model"
   ]
  },
  {
   "cell_type": "code",
   "execution_count": null,
   "id": "f9cf2853-eafd-406b-8a04-09cb1b85133b",
   "metadata": {},
   "outputs": [],
   "source": [
    "!pip uninstall torch torchvision torchaudio -y\n",
    "!pip install torch torchvision torchaudio --index-url https://download.pytorch.org/whl/cu121"
   ]
  },
  {
   "cell_type": "code",
   "execution_count": null,
   "id": "21f6e44d-93d0-4384-9525-5d435b61a1d5",
   "metadata": {},
   "outputs": [],
   "source": [
    "from transformers import pipeline\n",
    "summarizer = pipeline(\"summarization\", model=\"facebook/bart-large-cnn\", device=0)"
   ]
  },
  {
   "cell_type": "code",
   "execution_count": null,
   "id": "5271ddd1-dfad-4de9-87f6-cff3f3a7a7a2",
   "metadata": {},
   "outputs": [],
   "source": [
    "chunk_size = 1024\n",
    "article_chunks = [article_text[i:i+chunk_size] for i in range(0, len(article_text), chunk_size)]\n",
    "len(article_chunks)"
   ]
  },
  {
   "cell_type": "code",
   "execution_count": null,
   "id": "ecbbcf84-ec40-43b3-acff-2a7837fd0e5e",
   "metadata": {},
   "outputs": [],
   "source": [
    "summaries = summarizer(article_chunks, max_length=150, min_length=50, do_sample=False, batch_size=8)\n",
    "summaries = [summary['summary_text'] for summary in summaries]\n",
    "summaries"
   ]
  },
  {
   "cell_type": "code",
   "execution_count": null,
   "id": "2b2be618-afda-4634-8924-1fa294eaab85",
   "metadata": {},
   "outputs": [],
   "source": [
    "final_summary = \" \".join(summaries)\n",
    "final_summary"
   ]
  },
  {
   "cell_type": "markdown",
   "id": "936eda50-3b66-4df4-8345-dba5a5edeab0",
   "metadata": {},
   "source": [
    "# T5 model"
   ]
  },
  {
   "cell_type": "code",
   "execution_count": null,
   "id": "78c5ff35-8361-4052-89ee-1e3bc4270607",
   "metadata": {},
   "outputs": [],
   "source": [
    "summarizer = pipeline(\"summarization\", model=\"t5-large\", device=0)\n",
    "Device set to use cuda:0\n",
    "chunk_size = 1024\n",
    "article_chunks = [article_text[i:i+chunk_size] for i in range(0, len(article_text), chunk_size)]\n",
    "summaries = summarizer(article_chunks, max_length=150, min_length=50, do_sample=False, batch_size=8)\n",
    "summaries = [summary['summary_text'] for summary in summaries] \n",
    "len(summaries)"
   ]
  },
  {
   "cell_type": "code",
   "execution_count": null,
   "id": "1356c5ab-a711-46c8-9f53-15c566520549",
   "metadata": {},
   "outputs": [],
   "source": [
    "final_summary = \" \".join(summaries)\n",
    "len(final_summary)\n"
   ]
  },
  {
   "cell_type": "code",
   "execution_count": null,
   "id": "4ee9bf69-a2d1-4552-a1fe-db1aa7c40032",
   "metadata": {},
   "outputs": [],
   "source": [
    "print(final_summary)"
   ]
  }
 ],
 "metadata": {
  "kernelspec": {
   "display_name": "Python 3 (ipykernel)",
   "language": "python",
   "name": "python3"
  },
  "language_info": {
   "codemirror_mode": {
    "name": "ipython",
    "version": 3
   },
   "file_extension": ".py",
   "mimetype": "text/x-python",
   "name": "python",
   "nbconvert_exporter": "python",
   "pygments_lexer": "ipython3",
   "version": "3.11.7"
  }
 },
 "nbformat": 4,
 "nbformat_minor": 5
}
